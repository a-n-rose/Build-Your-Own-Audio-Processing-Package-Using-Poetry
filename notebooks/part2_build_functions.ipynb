{
 "cells": [
  {
   "cell_type": "markdown",
   "id": "8243aa4e-946d-444a-96c9-09c49e78ca33",
   "metadata": {},
   "source": [
    "# Time to build your own functionality!\n",
    "\n",
    "Build functionality, apply it in your package, and import it to test it out.\n",
    "\n",
    "## **IDEAS**\n",
    "### Do you want to... familiarize yourself with audio and Poetry?\n",
    "- use or build onto functionality from the Part 1 Notebook.\n",
    "- find papers from Google scholar (such as [this one](https://arxiv.org/pdf/1609.09430.pdf)) and **approximate** their handling of audio.\n",
    "- experiment with sounds from [Freesound.org](https://freesound.org/) - you have to become a member to download but I recommend it.\n",
    "\n",
    "### Do you want to... branch out? (additional packages *probably* necessary)\n",
    "- explore using [Librosa](https://librosa.org/doc/latest/index.html), such as loading audio and various types of audio (wav, mp3, etc.)\n",
    "- explore [Parselmouth](https://parselmouth.readthedocs.io/en/stable/), a package for manipulating and analyzing speech.\n",
    "- try out [Augmentations](https://github.com/iver56/audiomentations), for example, to expand training data for neural networks \n",
    "- explore [HuggingFace](https://huggingface.co/models) and try implementing a model. Need a GPU for experimenting? Check out [Google Colab](https://colab.research.google.com/?utm_source=scs-index)."
   ]
  },
  {
   "cell_type": "code",
   "execution_count": null,
   "id": "9ef42aa0-afbf-4e5b-9c9d-df2a528f6edb",
   "metadata": {},
   "outputs": [],
   "source": [
    "import pyladies_acoustics as pa"
   ]
  },
  {
   "cell_type": "code",
   "execution_count": 3,
   "id": "d1e10b47-f9a0-49f0-99d0-8d246d82b202",
   "metadata": {},
   "outputs": [
    {
     "data": {
      "text/plain": [
       "'0.1.0'"
      ]
     },
     "execution_count": 3,
     "metadata": {},
     "output_type": "execute_result"
    }
   ],
   "source": [
    "pa.__version__"
   ]
  }
 ],
 "metadata": {
  "kernelspec": {
   "display_name": "Python 3 (ipykernel)",
   "language": "python",
   "name": "python3"
  },
  "language_info": {
   "codemirror_mode": {
    "name": "ipython",
    "version": 3
   },
   "file_extension": ".py",
   "mimetype": "text/x-python",
   "name": "python",
   "nbconvert_exporter": "python",
   "pygments_lexer": "ipython3",
   "version": "3.8.10"
  }
 },
 "nbformat": 4,
 "nbformat_minor": 5
}
